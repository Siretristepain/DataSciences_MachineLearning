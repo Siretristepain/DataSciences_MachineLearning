{
 "cells": [
  {
   "cell_type": "markdown",
   "id": "3220ff13-89e2-44e4-b2af-710d471b92de",
   "metadata": {},
   "source": [
    "# Modèle de régression linéaire selon la technique de la descente de gradient"
   ]
  },
  {
   "cell_type": "code",
   "execution_count": 1,
   "id": "ff84065f-b81c-4aff-af17-d2fab8eb095d",
   "metadata": {},
   "outputs": [],
   "source": [
    "import matplotlib.pyplot as plt\n",
    "import numpy as np "
   ]
  },
  {
   "cell_type": "markdown",
   "id": "a4d1789d-f79d-4812-83a0-0d5295c72910",
   "metadata": {},
   "source": [
    "## Je commence par créer un dataset"
   ]
  },
  {
   "cell_type": "code",
   "execution_count": 2,
   "id": "b2e2fb83-3880-4419-9393-2e5052c3bc33",
   "metadata": {},
   "outputs": [],
   "source": [
    "from sklearn.datasets import make_regression"
   ]
  },
  {
   "cell_type": "code",
   "execution_count": 3,
   "id": "cbfdcbe6-6b87-4c08-9337-8c78724966ca",
   "metadata": {},
   "outputs": [],
   "source": [
    "x, y = make_regression(n_samples=100, n_features=1, noise=10, random_state=0) # On reste sur un dataset simple avec seulement 1 feature. On rajoute un peu de bruit pour que cela semble un peu plus réel."
   ]
  },
  {
   "cell_type": "code",
   "execution_count": 4,
   "id": "524e0bed-9646-4b30-95b6-21f68feb73b4",
   "metadata": {},
   "outputs": [
    {
     "name": "stdout",
     "output_type": "stream",
     "text": [
      "x.shape : (100, 1)\n",
      "y.shape : (100,)\n",
      "y.shape après modification : (100, 1)\n"
     ]
    }
   ],
   "source": [
    "print(f\"x.shape : {x.shape}\")\n",
    "print(f\"y.shape : {y.shape}\")\n",
    "\n",
    "# On remarque que les dimensions de notre matrice y ne sont pas bonnes. On corrige cela comme ça : \n",
    "\n",
    "y = y.reshape(y.shape[0], 1)\n",
    "print(f\"y.shape après modification : {x.shape}\")"
   ]
  },
  {
   "cell_type": "code",
   "execution_count": 5,
   "id": "a9c277bd-fcd3-47f5-b94a-aafb5b8e12ed",
   "metadata": {},
   "outputs": [
    {
     "data": {
      "text/plain": [
       "Text(0, 0.5, 'target y')"
      ]
     },
     "execution_count": 5,
     "metadata": {},
     "output_type": "execute_result"
    },
    {
     "data": {
      "image/png": "[encoded data removed]",
      "text/plain": [
       "<Figure size 576x360 with 1 Axes>"
      ]
     },
     "metadata": {
      "needs_background": "light"
     },
     "output_type": "display_data"
    }
   ],
   "source": [
    "plt.figure(figsize=(8,5))\n",
    "plt.scatter(x, y, s=10)\n",
    "plt.title('Notre dataset')\n",
    "plt.xlabel('feature x')\n",
    "plt.ylabel('target y')"
   ]
  },
  {
   "cell_type": "markdown",
   "id": "606950e8-ab5a-418c-ada2-bf1ebaa0c8a0",
   "metadata": {},
   "source": [
    "# Le modèle"
   ]
  },
  {
   "cell_type": "markdown",
   "id": "20c9dee4-9f7b-44e2-b83a-922003b1887a",
   "metadata": {},
   "source": [
    "#### On souhaite créer un modèle linéaire donc de la forme y = a*x + b. On passe cette formule sous forme matricielle pour faciliter tout les calculs: F = X . theta (produit matriciel de X (matrice x à laquelle on ajoute une colonne de biais) et de theta (matrice qui contient les paramètres de notre modèle qu'il vas falloir ajuster))."
   ]
  },
  {
   "cell_type": "code",
   "execution_count": 6,
   "id": "1c038131-bfb1-4697-a95d-66f5bbb23bb9",
   "metadata": {},
   "outputs": [],
   "source": [
    "def model(X, theta):\n",
    "    return X.dot(theta)"
   ]
  },
  {
   "cell_type": "code",
   "execution_count": 7,
   "id": "732081af-146b-4974-a0b8-06083bc38d32",
   "metadata": {},
   "outputs": [
    {
     "name": "stdout",
     "output_type": "stream",
     "text": [
      "X.shape : (100, 2), on à bien la colonne de biais qui s'est ajoutée.\n"
     ]
    }
   ],
   "source": [
    "X = np.concatenate((x, np.ones((x.shape[0], 1))), axis=1)\n",
    "print(f\"X.shape : {X.shape}, on à bien la colonne de biais qui s'est ajoutée.\")"
   ]
  },
  {
   "cell_type": "markdown",
   "id": "18c73623-d07a-41df-896f-c8dd84e1ca9f",
   "metadata": {},
   "source": [
    "#### Pour 'initialiser' notre modèle, on créer un theta avec des valeurs aléatoires."
   ]
  },
  {
   "cell_type": "code",
   "execution_count": 8,
   "id": "fb6d0c37-2a67-479e-b9fe-71b493e20c78",
   "metadata": {},
   "outputs": [
    {
     "name": "stdout",
     "output_type": "stream",
     "text": [
      "theta.shape : (2, 1), on à bien une matrice à 2 valeurs, ce qui coïncide avec notre modèle à deux paramètres a et b.\n"
     ]
    }
   ],
   "source": [
    "theta = np.random.randn(2,1)\n",
    "print(f\"theta.shape : {theta.shape}, on à bien une matrice à 2 valeurs, ce qui coïncide avec notre modèle à deux paramètres a et b.\")"
   ]
  },
  {
   "cell_type": "code",
   "execution_count": 9,
   "id": "5ab2fe0e-06c6-4306-8077-f10d60037ac6",
   "metadata": {},
   "outputs": [],
   "source": [
    "prediction = model(X, theta) # On prédit une valeur de y (une target) pour chacun de nos x selon notre modèle."
   ]
  },
  {
   "cell_type": "code",
   "execution_count": 10,
   "id": "6ffdc25f-5fb4-4667-b644-054739199042",
   "metadata": {},
   "outputs": [
    {
     "data": {
      "text/plain": [
       "Text(0, 0.5, 'target y')"
      ]
     },
     "execution_count": 10,
     "metadata": {},
     "output_type": "execute_result"
    },
    {
     "data": {
      "image/png": "[encoded data removed]",
      "text/plain": [
       "<Figure size 576x360 with 1 Axes>"
      ]
     },
     "metadata": {
      "needs_background": "light"
     },
     "output_type": "display_data"
    }
   ],
   "source": [
    "plt.figure(figsize=(8,5))\n",
    "plt.scatter(x, y, s=10)\n",
    "plt.scatter(x, prediction, c='r', s=20)\n",
    "plt.title('Nos prédiction par rapport à notre dataset')\n",
    "plt.xlabel('feature x')\n",
    "plt.ylabel('target y')"
   ]
  },
  {
   "cell_type": "markdown",
   "id": "60c61f16-1ba5-4df9-abc7-e704c6c8c8e5",
   "metadata": {},
   "source": [
    "#### On constate que notre modèle semble très peu performant car il n'entre pas du tout dans le nuage de point de notre dataset."
   ]
  },
  {
   "cell_type": "markdown",
   "id": "23a21cf8-afc1-47e5-a28c-e3b17cf56bdd",
   "metadata": {},
   "source": [
    "# La fonction coût (mean squared error)"
   ]
  },
  {
   "cell_type": "markdown",
   "id": "88f9ee51-3f5b-488b-ad13-2aef33781f06",
   "metadata": {},
   "source": [
    "#### Notre fonction coût est de la forme J(theta) = 1/2m * somme( X . theta - y ) **2"
   ]
  },
  {
   "cell_type": "markdown",
   "id": "4b4c27a2-7fa7-4685-b860-c9a0860aeb39",
   "metadata": {},
   "source": [
    "#### Cette fonction représente en fait la différence entre les prédictions de notre modèle et les valeurs vraies. Si on diminu cette fonction coût, on améliore notre modèle."
   ]
  },
  {
   "cell_type": "code",
   "execution_count": 11,
   "id": "7d9aeb60-3ab0-4da1-9758-5fa2329d89bd",
   "metadata": {},
   "outputs": [],
   "source": [
    "def mean_squared_error(X, theta, y):\n",
    "    m = len(X)\n",
    "    return (1/(2*m)) * ((X.dot(theta) - y)**2).sum()"
   ]
  },
  {
   "cell_type": "code",
   "execution_count": 12,
   "id": "cfa12751-2210-4661-9a3d-d1921afe25d4",
   "metadata": {},
   "outputs": [
    {
     "name": "stdout",
     "output_type": "stream",
     "text": [
      "Le score de notre modèle est de : 956.9161150867903, on est très loin de zéro !\n"
     ]
    }
   ],
   "source": [
    "score = mean_squared_error(X, theta, y)\n",
    "print(f\"Le score de notre modèle est de : {score}, on est très loin de zéro !\")"
   ]
  },
  {
   "cell_type": "markdown",
   "id": "6504226c-3fcb-4a56-9b9a-0f8f8eb50e4b",
   "metadata": {},
   "source": [
    "# Le gradient"
   ]
  },
  {
   "cell_type": "markdown",
   "id": "d6ba8b68-7535-4ab2-b261-f2dfa138d60f",
   "metadata": {},
   "source": [
    "#### Nous allons calculer le gradient de notre fonction coût. En effet, notre fonction coût étant une somme de carré, elle a une forme de parabole. Notre but est de trouver le minimum de cette parabole."
   ]
  },
  {
   "cell_type": "markdown",
   "id": "e4dac5a0-1007-45e0-acca-32a7eaac77cc",
   "metadata": {},
   "source": [
    "#### Notre gradient : 1/2 * X.T * ( X . theta - y )    (où X.T correspond à la transposée de la matrice X)."
   ]
  },
  {
   "cell_type": "code",
   "execution_count": 13,
   "id": "7625c757-c04b-4518-90cb-3d86692d894a",
   "metadata": {},
   "outputs": [],
   "source": [
    "def gradient(X, theta, y):\n",
    "    m = len(X)\n",
    "    return (1/m) * (X.T).dot((X.dot(theta) - y))"
   ]
  },
  {
   "cell_type": "markdown",
   "id": "318a4948-0e7f-4444-8eb0-0d20cbd101db",
   "metadata": {},
   "source": [
    "# La descente de gradient"
   ]
  },
  {
   "cell_type": "markdown",
   "id": "99b64144-4b1b-46bc-a4a9-1838377f251f",
   "metadata": {},
   "source": [
    "#### L'algorithme d'apprentissage de notre modèle va être la descente de gradient. L'idée c'est de se déplacer sur la parabole de notre fonction coût en suivant la ligne de plus grande pente jusqu'à atteindre le minimum (ou s'en rapprocher le plus possible)"
   ]
  },
  {
   "cell_type": "markdown",
   "id": "855de2ac-425c-4ee6-a8ae-c19e6b67da60",
   "metadata": {},
   "source": [
    "#### Notre descente de gradient : theta = theta - alpha * d(J)/d(theta) \n",
    "#### Avec alpha appelé le learning rate (vitesse d'apprentissage/convergence). Si on choisi un alpha trop petit, notre programme mettra beaucoup trop de temps pour trouver le minimum. Si on le choisi trop grand, il sera impossible de trouver le minimum car on oscillera autour. Ce alpha correspond en fait à \"l'écart\" (la distance) entre 2 points successifs pour lesquels ont calcule le gradient de la fonction coût."
   ]
  },
  {
   "cell_type": "markdown",
   "id": "826120f1-f91b-42a0-8d87-cb9cd4c73d05",
   "metadata": {},
   "source": [
    "#### d(J)/d(theta) correspond au gradient de la fonction coût, c'est à dire notre gradient défini juste dans la partie précédente."
   ]
  },
  {
   "cell_type": "code",
   "execution_count": 14,
   "id": "c41dfbed-a2c3-4851-ac63-d369e11f2166",
   "metadata": {},
   "outputs": [],
   "source": [
    "def descente_gradient(X, theta, y, alpha, n_iterations):\n",
    "    apprentissage = np.zeros(n_iterations) # Sert à tracer la courbe d'apprentissage que l'on verra plus tard\n",
    "    for i in range(n_iterations):\n",
    "        theta = theta - (alpha * gradient(X, theta, y))\n",
    "        \n",
    "        apprentissage[i] = mean_squared_error(X, theta, y) # Sert également pour la courbe d'apprentissage. On stocke la valeur de la fonction coût à chaque itération dans notre matrice 'apprentissage'.\n",
    "\n",
    "    return theta, apprentissage"
   ]
  },
  {
   "cell_type": "code",
   "execution_count": 15,
   "id": "ade06f91-5fa9-48d7-a989-985ddf235de1",
   "metadata": {},
   "outputs": [],
   "source": [
    "theta_new, apprentissage = descente_gradient(X, theta, y, alpha=0.01, n_iterations=1000)"
   ]
  },
  {
   "cell_type": "code",
   "execution_count": 16,
   "id": "fb1434d7-5587-4f10-a0dd-65682ed0435e",
   "metadata": {},
   "outputs": [
    {
     "name": "stdout",
     "output_type": "stream",
     "text": [
      "Initialement, on avait theta : [[0.54180833]\n",
      " [0.64739555]],\n",
      " Après la descente de gradient on a theta_new : [[42.61760033]\n",
      " [-0.81304944]].\n"
     ]
    }
   ],
   "source": [
    "print(f\"Initialement, on avait theta : {theta},\\n Après la descente de gradient on a theta_new : {theta_new}.\")"
   ]
  },
  {
   "cell_type": "markdown",
   "id": "a104c0bf-541b-4964-bfc0-56d8f57ff503",
   "metadata": {},
   "source": [
    "# Les résultats du modèle"
   ]
  },
  {
   "cell_type": "code",
   "execution_count": 17,
   "id": "d520ef8c-9447-4ef7-8a39-2ad33846ad26",
   "metadata": {},
   "outputs": [],
   "source": [
    "prediction_new = model(X, theta_new) # On refait tourner notre modèle avec notre nouvelle matrice paramètre theta_new"
   ]
  },
  {
   "cell_type": "code",
   "execution_count": 18,
   "id": "23b52ee6-b194-4a8b-8d07-ee9ace91d18b",
   "metadata": {},
   "outputs": [
    {
     "data": {
      "text/plain": [
       "Text(0, 0.5, 'target y')"
      ]
     },
     "execution_count": 18,
     "metadata": {},
     "output_type": "execute_result"
    },
    {
     "data": {
      "image/png": "[encoded data removed]",
      "text/plain": [
       "<Figure size 576x360 with 1 Axes>"
      ]
     },
     "metadata": {
      "needs_background": "light"
     },
     "output_type": "display_data"
    }
   ],
   "source": [
    "plt.figure(figsize=(8,5))\n",
    "plt.scatter(x, y, s=10)\n",
    "plt.scatter(x, prediction_new, c='r', s=20)\n",
    "plt.title('Nos prédictions après apprentissage par rapport à notre dataset')\n",
    "plt.xlabel('feature x')\n",
    "plt.ylabel('target y')"
   ]
  },
  {
   "cell_type": "markdown",
   "id": "78699ede-71b2-4a24-8654-fa98900a82f7",
   "metadata": {},
   "source": [
    "#### On constate que notre modèle s'ajuste beaucoup mieux à notre nuage de point et semble maintenant beaucoup plus fiable !"
   ]
  },
  {
   "cell_type": "markdown",
   "id": "fcc912eb-a3ce-4c66-b67b-4a5c7d3cf91a",
   "metadata": {},
   "source": [
    "# La courbe d'apprentissage"
   ]
  },
  {
   "cell_type": "code",
   "execution_count": 19,
   "id": "fd147912-4166-4c34-9e80-ac595f503cba",
   "metadata": {},
   "outputs": [
    {
     "data": {
      "text/plain": [
       "[<matplotlib.lines.Line2D at 0x10ce27b2d00>]"
      ]
     },
     "execution_count": 19,
     "metadata": {},
     "output_type": "execute_result"
    },
    {
     "data": {
      "image/png": "[encoded data removed]",
      "text/plain": [
       "<Figure size 1080x720 with 1 Axes>"
      ]
     },
     "metadata": {
      "needs_background": "light"
     },
     "output_type": "display_data"
    }
   ],
   "source": [
    "plt.figure(figsize=(15,10))\n",
    "plt.plot(range(1000), apprentissage)"
   ]
  },
  {
   "cell_type": "markdown",
   "id": "1bd0d50d-e3a2-43e4-bfa5-374ccb8b3d67",
   "metadata": {},
   "source": [
    "#### On constate que notre modèle à très vite \"appris\". En effet, après 200 itérations la fonction coût était déjà très basse et les itérations suivantes n'ont que peu servis."
   ]
  },
  {
   "cell_type": "markdown",
   "id": "e0ff428c-f26a-4321-9042-ac5cb1201fa5",
   "metadata": {},
   "source": [
    "# Le coefficient de détermination R^2"
   ]
  },
  {
   "cell_type": "markdown",
   "id": "fb6ec2b0-9dce-4d4f-b845-df5a3a9a170c",
   "metadata": {},
   "source": [
    "#### Ce coefficient permet d'évaluer les performances de notre modèle. Plus il est proche de 1, plus notre modèle 'fit' bien dans le nuage de point."
   ]
  },
  {
   "cell_type": "markdown",
   "id": "89e9e856-5be7-4bbe-9062-f4d286d7d665",
   "metadata": {},
   "source": [
    "#### Sa formule est R^2 = 1 - somme((y - f(x))^2) / somme((y - y.mean())^2) c'est à dire 1 moins la somme des carrés des écarts entre prédiction et réalité sur somme au carré des écart entre réalité et moyenne des réalités."
   ]
  },
  {
   "cell_type": "code",
   "execution_count": 23,
   "id": "5e838184-31bc-438f-b9fe-f315d715d55e",
   "metadata": {},
   "outputs": [],
   "source": [
    "def coef_determination(y, prediction):\n",
    "    u = ((y - prediction)**2).sum()\n",
    "    v = ((y - y.mean())**2).sum()\n",
    "    return 1 - u/v"
   ]
  },
  {
   "cell_type": "code",
   "execution_count": 24,
   "id": "af446fb6-0ebc-4557-baed-516e4cbc2013",
   "metadata": {},
   "outputs": [],
   "source": [
    "coef = coef_determination(y, prediction_new)"
   ]
  },
  {
   "cell_type": "code",
   "execution_count": 25,
   "id": "6a6c02fe-9eef-4804-9bb2-69ead183430b",
   "metadata": {},
   "outputs": [
    {
     "name": "stdout",
     "output_type": "stream",
     "text": [
      "Le coefficient de détermination de notre modèle est de : 0.9417294705008733, ce qui est plutôt satisfaisant !\n"
     ]
    }
   ],
   "source": [
    "print(f\"Le coefficient de détermination de notre modèle est de : {coef}, ce qui est plutôt satisfaisant !\")"
   ]
  },
  {
   "cell_type": "code",
   "execution_count": null,
   "id": "8986c7c1-dd21-4e9f-aa9d-8e94210afa87",
   "metadata": {},
   "outputs": [],
   "source": []
  }
 ],
 "metadata": {
  "kernelspec": {
   "display_name": "Python 3 (ipykernel)",
   "language": "python",
   "name": "python3"
  },
  "language_info": {
   "codemirror_mode": {
    "name": "ipython",
    "version": 3
   },
   "file_extension": ".py",
   "mimetype": "text/x-python",
   "name": "python",
   "nbconvert_exporter": "python",
   "pygments_lexer": "ipython3",
   "version": "3.9.7"
  }
 },
 "nbformat": 4,
 "nbformat_minor": 5
}
