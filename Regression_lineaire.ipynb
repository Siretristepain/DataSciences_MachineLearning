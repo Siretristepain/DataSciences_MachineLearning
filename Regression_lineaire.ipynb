{
 "cells": [
  {
   "cell_type": "code",
   "execution_count": 1,
   "id": "85e0d2b4-9786-4172-b49d-a9fca7f6a681",
   "metadata": {},
   "outputs": [],
   "source": [
    "import numpy as np\n",
    "import matplotlib.pyplot as plt\n",
    "from sklearn.datasets import make_regression"
   ]
  },
  {
   "cell_type": "markdown",
   "id": "0dd23aae-b19e-43b6-842b-706b6e45cb95",
   "metadata": {},
   "source": [
    "# Création de mon premier modèle de machine learning supervisé à l'aide d'un algorithme de régression linéaire"
   ]
  },
  {
   "cell_type": "markdown",
   "id": "44e67e19-88c6-433a-81c6-bac9590792d3",
   "metadata": {},
   "source": [
    "#### Importation d'un dataset"
   ]
  },
  {
   "cell_type": "code",
   "execution_count": 2,
   "id": "dc20dc36-9a31-4372-8423-1e1fe1713d9c",
   "metadata": {},
   "outputs": [],
   "source": [
    "x, y = make_regression(n_samples=100, n_features=1, noise=10)"
   ]
  },
  {
   "cell_type": "code",
   "execution_count": 3,
   "id": "3d83c290-b099-4df2-89b9-e2527f0546da",
   "metadata": {},
   "outputs": [
    {
     "name": "stdout",
     "output_type": "stream",
     "text": [
      "(100, 1)\n",
      "(100, 1)\n"
     ]
    }
   ],
   "source": [
    "y = y.reshape(y.shape[0],1)\n",
    "print(x.shape)\n",
    "print(y.shape)"
   ]
  },
  {
   "cell_type": "code",
   "execution_count": 4,
   "id": "f57c942c-3f87-431d-a48d-480c25e208a8",
   "metadata": {},
   "outputs": [
    {
     "data": {
      "text/plain": [
       "<matplotlib.collections.PathCollection at 0x18618600910>"
      ]
     },
     "execution_count": 4,
     "metadata": {},
     "output_type": "execute_result"
    },
    {
     "data": {
      "image/png": "[encoded data removed]",
      "text/plain": [
       "<Figure size 432x288 with 1 Axes>"
      ]
     },
     "metadata": {
      "needs_background": "light"
     },
     "output_type": "display_data"
    }
   ],
   "source": [
    "plt.scatter(x, y)"
   ]
  },
  {
   "cell_type": "markdown",
   "id": "3729fe33-7aa6-4d18-b6b9-cea2db9188bd",
   "metadata": {},
   "source": [
    "# Le modèle : F = X.theta"
   ]
  },
  {
   "cell_type": "code",
   "execution_count": 5,
   "id": "3e9f53e0-c171-4ef6-b2ed-b790a9fbd548",
   "metadata": {},
   "outputs": [],
   "source": [
    "def model(X, theta):\n",
    "    return X.dot(theta)"
   ]
  },
  {
   "cell_type": "code",
   "execution_count": 6,
   "id": "6591097d-6e4a-4c09-a608-9625fd7946f7",
   "metadata": {},
   "outputs": [],
   "source": [
    "theta = np.random.randn(2,1)"
   ]
  },
  {
   "cell_type": "code",
   "execution_count": 7,
   "id": "c65b7606-987d-4f77-a534-6890c4aca341",
   "metadata": {},
   "outputs": [],
   "source": [
    "X = np.hstack((x, np.ones(shape=x.shape))) # On fusionne notre vecteur x avec un vecteur remplis de 1 de meme dimension pour former la matrice X"
   ]
  },
  {
   "cell_type": "code",
   "execution_count": 8,
   "id": "019e4ffd-2fa7-4b1d-bcc8-8cfc9a5cc2ca",
   "metadata": {},
   "outputs": [],
   "source": [
    "modele = model(X, theta)"
   ]
  },
  {
   "cell_type": "code",
   "execution_count": 9,
   "id": "1120d886-c3ba-4f8f-9522-15324a0e61b8",
   "metadata": {},
   "outputs": [
    {
     "data": {
      "text/plain": [
       "[<matplotlib.lines.Line2D at 0x186187118b0>]"
      ]
     },
     "execution_count": 9,
     "metadata": {},
     "output_type": "execute_result"
    },
    {
     "data": {
      "image/png": "[encoded data removed]",
      "text/plain": [
       "<Figure size 1080x720 with 1 Axes>"
      ]
     },
     "metadata": {
      "needs_background": "light"
     },
     "output_type": "display_data"
    }
   ],
   "source": [
    "plt.figure(1, figsize=(15,10))\n",
    "plt.scatter(x, y)\n",
    "plt.plot(x, modele, 'r')"
   ]
  },
  {
   "cell_type": "markdown",
   "id": "77701bf7-6c0e-4b6d-adc9-ed5e7a68dba1",
   "metadata": {},
   "source": [
    "#### On constate que pour l'instant notre modèle est très loin de la réalité. La fonction coût sera grande. Il va falloir que notre modèle passe en phase d'apprentissage."
   ]
  },
  {
   "cell_type": "markdown",
   "id": "4dfe4de7-86ce-4c82-b046-a363172d0896",
   "metadata": {},
   "source": [
    "# La fonction coût J"
   ]
  },
  {
   "cell_type": "code",
   "execution_count": 10,
   "id": "5b59bad4-6491-4c51-aaa4-7fdfd4a3299b",
   "metadata": {},
   "outputs": [],
   "source": [
    "def cost_function(X, y, theta):\n",
    "    m = len(x)\n",
    "    return (1/(2*m)) * ((model(X, theta) - y)**2).sum()"
   ]
  },
  {
   "cell_type": "code",
   "execution_count": 11,
   "id": "1f42eb61-bbc3-47f3-9eab-6515b50fff8f",
   "metadata": {},
   "outputs": [
    {
     "data": {
      "text/plain": [
       "1261.4062486900368"
      ]
     },
     "execution_count": 11,
     "metadata": {},
     "output_type": "execute_result"
    }
   ],
   "source": [
    "cost_function(X, y, theta)"
   ]
  },
  {
   "cell_type": "markdown",
   "id": "acd705ce-ae41-4a96-b0df-72ff15ba9a69",
   "metadata": {},
   "source": [
    "#### Le but pour avoir le meilleur modèle est de faire tendre cette valeur vers 0."
   ]
  },
  {
   "cell_type": "markdown",
   "id": "04cff529-f215-47aa-bbc4-14a0b8a1632a",
   "metadata": {},
   "source": [
    "# Le gradient"
   ]
  },
  {
   "cell_type": "code",
   "execution_count": 12,
   "id": "071bd335-6015-4327-8561-81c2d4dbf5e3",
   "metadata": {},
   "outputs": [],
   "source": [
    "def grad(X, y, theta):\n",
    "    m = len(x)\n",
    "    return (1/m) * (X.T).dot(model(X, theta) - y)"
   ]
  },
  {
   "cell_type": "markdown",
   "id": "53787939-c407-407f-8f0e-06e028349c25",
   "metadata": {},
   "source": [
    "# La descente de gradient"
   ]
  },
  {
   "cell_type": "markdown",
   "id": "fbacbef4-bba7-4022-b1ac-7d4934febf8c",
   "metadata": {},
   "source": [
    "#### Le but de la descente de gradient est de modifier les valeurs de theta. Pour rappel theta est un vecteur (2,1), contenant les deux paramètres de notre modèle : a et b."
   ]
  },
  {
   "cell_type": "code",
   "execution_count": 13,
   "id": "7e0e66c0-4fd9-432a-9619-cc9fcf28aa09",
   "metadata": {},
   "outputs": [],
   "source": [
    "def des_grad(theta, X, y, learning_rate, nb_iterations):\n",
    "    cost_history = np.zeros(nb_iterations) # Sert pour la partie suivante sur la courbe d'apprentissage.\n",
    "    for i in range(0, nb_iterations):\n",
    "        theta = theta - learning_rate * grad(X, y, theta)\n",
    "        cost_history[i] = cost_function(X, y, theta)\n",
    "    \n",
    "    return theta, cost_history"
   ]
  },
  {
   "cell_type": "code",
   "execution_count": 14,
   "id": "3aea0ad6-cb02-463d-b784-a5b1c0ad701b",
   "metadata": {},
   "outputs": [],
   "source": [
    "theta_final, cost_history = des_grad(theta, X, y, learning_rate=0.01, nb_iterations=1000)"
   ]
  },
  {
   "cell_type": "code",
   "execution_count": 15,
   "id": "9bef6455-9937-4ce4-9a27-73cf22639631",
   "metadata": {},
   "outputs": [
    {
     "name": "stdout",
     "output_type": "stream",
     "text": [
      "[[51.08750618]\n",
      " [-1.46160279]]\n"
     ]
    }
   ],
   "source": [
    "print(theta_final)"
   ]
  },
  {
   "cell_type": "markdown",
   "id": "a6ff3e6c-3d2c-488d-88a0-91dc3a09e053",
   "metadata": {},
   "source": [
    "#### Maintenant on vas refaire un graphe avec notre nouvelle valeur de theta."
   ]
  },
  {
   "cell_type": "code",
   "execution_count": 16,
   "id": "82ce25c0-62b3-411d-8b08-fa4aa7669218",
   "metadata": {},
   "outputs": [
    {
     "data": {
      "text/plain": [
       "[<matplotlib.lines.Line2D at 0x1861877caf0>]"
      ]
     },
     "execution_count": 16,
     "metadata": {},
     "output_type": "execute_result"
    },
    {
     "data": {
      "image/png": "[encoded data removed]",
      "text/plain": [
       "<Figure size 1080x720 with 1 Axes>"
      ]
     },
     "metadata": {
      "needs_background": "light"
     },
     "output_type": "display_data"
    }
   ],
   "source": [
    "plt.figure(2, figsize=(15,10))\n",
    "plt.scatter(x, y)\n",
    "prediction = model(X, theta_final)\n",
    "plt.plot(x, prediction, 'r')"
   ]
  },
  {
   "cell_type": "markdown",
   "id": "4e51938a-cc20-4e42-b19a-b4062f91ae7e",
   "metadata": {},
   "source": [
    "#### On constate que notre modèle est déjà bien mieux :)"
   ]
  },
  {
   "cell_type": "markdown",
   "id": "50ab013a-5b69-40c6-807e-e4f9d7da070e",
   "metadata": {},
   "source": [
    "#### Si on veut améliorer le modèle, on peut jouer sur le nombre d'iterations et sur le learning rate (alpha dans la formule algébrique). Il ne faut pas que ce alpha soit ni trop petit ni trop grand."
   ]
  },
  {
   "cell_type": "markdown",
   "id": "5afaf4af-4e3d-4dac-b6ef-0c11c7e48967",
   "metadata": {},
   "source": [
    "# Coure d'apprentissage"
   ]
  },
  {
   "cell_type": "markdown",
   "id": "3233d30a-fcc5-4a0e-90bf-25a42fc1c095",
   "metadata": {},
   "source": [
    "#### On veut tracer le courbe de minimisation de la fonction coût. Elle montrera l'apprentissage de la machine à chaque itérations. \n",
    "#### Pour cela, on créer une nouvelle variable cost_history dans notre fonction de descente du gradient. Il s'agit d'un array remplis de 0, aussi long que le nombre d'itérations. Ensuite, à chaque itération, on inscrit dedans la nouvelle valeur de theta."
   ]
  },
  {
   "cell_type": "code",
   "execution_count": 17,
   "id": "30d2b828-53fe-461d-8a5a-56a12b449b72",
   "metadata": {},
   "outputs": [
    {
     "data": {
      "text/plain": [
       "[<matplotlib.lines.Line2D at 0x186189d7d30>]"
      ]
     },
     "execution_count": 17,
     "metadata": {},
     "output_type": "execute_result"
    },
    {
     "data": {
      "image/png": "[encoded data removed]",
      "text/plain": [
       "<Figure size 720x576 with 1 Axes>"
      ]
     },
     "metadata": {
      "needs_background": "light"
     },
     "output_type": "display_data"
    }
   ],
   "source": [
    "plt.figure(3, figsize=(10,8))\n",
    "plt.plot(range(1000), cost_history)"
   ]
  },
  {
   "cell_type": "markdown",
   "id": "eacbb1b0-a870-4f30-a5be-9de9d3de40de",
   "metadata": {},
   "source": [
    "#### On constate qu'aux alentours de 400 itérations, la fonction coût ne diminue presque plus. \n",
    "#### On comprends donc qu'on aurait pu se limiter à 400 itérations pour gagner en temps de calcul."
   ]
  },
  {
   "cell_type": "markdown",
   "id": "5a063e02-42e2-4f41-9a73-5e5e61e4b3e9",
   "metadata": {},
   "source": [
    "# Evaluer le modèle : coefficient de détermination"
   ]
  },
  {
   "cell_type": "code",
   "execution_count": 18,
   "id": "f75e665d-7f5f-4c2f-9d39-04850f45dba5",
   "metadata": {},
   "outputs": [],
   "source": [
    "def coef_determination(y, prediction):\n",
    "    u = ((y - prediction)**2).sum()\n",
    "    v = ((y - y.mean())**2).sum()\n",
    "    return 1 - (u/v)"
   ]
  },
  {
   "cell_type": "code",
   "execution_count": 19,
   "id": "4b276a97-a676-4559-a972-d80dcf7651ee",
   "metadata": {},
   "outputs": [
    {
     "data": {
      "text/plain": [
       "0.9612444333872656"
      ]
     },
     "execution_count": 19,
     "metadata": {},
     "output_type": "execute_result"
    }
   ],
   "source": [
    "coef_determination(y, prediction) "
   ]
  },
  {
   "cell_type": "markdown",
   "id": "c22dff21-c9a9-463d-8caa-2b165ec6347d",
   "metadata": {},
   "source": [
    "#### Notre modèle est fiable à 96%. Ca sera dur de faire mieux à cause du bruit qu'il y a dans le nuage de point. "
   ]
  },
  {
   "cell_type": "code",
   "execution_count": null,
   "id": "be5de2a2-c330-4f54-98e2-29c23f17ad4c",
   "metadata": {},
   "outputs": [],
   "source": []
  }
 ],
 "metadata": {
  "kernelspec": {
   "display_name": "Python 3 (ipykernel)",
   "language": "python",
   "name": "python3"
  },
  "language_info": {
   "codemirror_mode": {
    "name": "ipython",
    "version": 3
   },
   "file_extension": ".py",
   "mimetype": "text/x-python",
   "name": "python",
   "nbconvert_exporter": "python",
   "pygments_lexer": "ipython3",
   "version": "3.9.7"
  }
 },
 "nbformat": 4,
 "nbformat_minor": 5
}
