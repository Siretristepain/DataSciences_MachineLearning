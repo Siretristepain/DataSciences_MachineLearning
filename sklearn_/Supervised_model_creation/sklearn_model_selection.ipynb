{
 "cells": [
  {
   "cell_type": "markdown",
   "id": "dd67529a-2fd6-46fd-8359-d9f182db3a19",
   "metadata": {},
   "source": [
    "## Nous allons explorer le module model_selection de scikit-learn."
   ]
  },
  {
   "cell_type": "code",
   "execution_count": 2,
   "id": "20d21231-424b-491e-a7df-0453870fda78",
   "metadata": {},
   "outputs": [],
   "source": [
    "from sklearn.datasets import load_iris\n",
    "iris = load_iris()\n",
    "X = iris.data\n",
    "y = iris.target"
   ]
  },
  {
   "cell_type": "markdown",
   "id": "42a27f67-b7dd-4968-b869-b8bccca2be90",
   "metadata": {},
   "source": [
    "# Train_test_split"
   ]
  },
  {
   "cell_type": "markdown",
   "id": "d36db27e-9fd6-4342-b1a1-4d58665839a6",
   "metadata": {},
   "source": [
    "Il ne faut jamais évaluer la performance d'un modèle avec les données d'entraînement ! \n",
    "La fonction train_test_split permet de scinder le dataset en deux parties : un train set et un test set.\n",
    "Le train set permet d'entraîner le modèle là où le test set sert à l'évaluer."
   ]
  },
  {
   "cell_type": "code",
   "execution_count": 3,
   "id": "dc4dec1d-f4bc-4efc-a2cb-ed40d1da7812",
   "metadata": {},
   "outputs": [],
   "source": [
    "from sklearn.model_selection import train_test_split"
   ]
  },
  {
   "cell_type": "code",
   "execution_count": 7,
   "id": "eca6c0e3-f386-4d2d-985e-9d82d51240c4",
   "metadata": {},
   "outputs": [],
   "source": [
    "X_train, X_test, y_train, y_test = train_test_split(X, y, test_size=0.2, random_state=0) # Ici, test_size permet de mettre 20% des données dans le test set. Par défaut c'est 25%)"
   ]
  },
  {
   "cell_type": "code",
   "execution_count": 8,
   "id": "64b37a39-c00a-4aea-a965-dfe15d094659",
   "metadata": {},
   "outputs": [
    {
     "name": "stdout",
     "output_type": "stream",
     "text": [
      "X_train.shape = (120, 4), y_train.shape = (120,)\n",
      "X_test.shape = (30, 4), y_test.shape = (30,)\n"
     ]
    }
   ],
   "source": [
    "print(f\"X_train.shape = {X_train.shape}, y_train.shape = {y_train.shape}\\nX_test.shape = {X_test.shape}, y_test.shape = {y_test.shape}\")"
   ]
  },
  {
   "cell_type": "markdown",
   "id": "b52e1b8f-aaac-468e-9c70-041c62f681c2",
   "metadata": {},
   "source": [
    "Avant de séparer les données, elles sont mélangées aléatoirement. On peut \"fixer\" ce mélange alatoire via l'argument 'random_state'."
   ]
  },
  {
   "cell_type": "markdown",
   "id": "2ae354bb-a7a8-42f4-9b77-8b0039161773",
   "metadata": {},
   "source": [
    "# Validation set et cross validation"
   ]
  },
  {
   "cell_type": "markdown",
   "id": "e11c30b3-768e-4486-a365-7aa54b9a8348",
   "metadata": {},
   "source": [
    "Les modèles (estimateurs) ont différents hyperparamètres sur lesquels ont peut jouer pour améliorer leurs perfomances.\n",
    "Par exemple, pour un algorithme de KNeighborsClassifier, on peut jouer sur le nombre de voisins.\n",
    "On pourrait être tenté d'entrainer le modèle puis de l'évaluer puis de changer le nombre de voisins et recommencer ainsi de suite jusqu'à obtenir les meilleurs résultats.\n",
    "\n",
    "Cependant ça serait une grosse erreur car POUR EVALUER UN MODELE IL FAUT LUI DONNER DES DONNEES QU'IL N'A JAMAIS VU.\n",
    "\n",
    "On créer donc un 3ème jeu de données en coupant le train set en 2 : le train set et le validation set. Ce dernier vas servir à ajuster les hyperparamètres du modèle."
   ]
  },
  {
   "cell_type": "markdown",
   "id": "06b92256-da9f-4c80-a7bf-22fc9d67bba9",
   "metadata": {},
   "source": [
    "Cela dit, on pourrait se demander si les résultats que l'on obtient ne soient pas du au découpage du train set. Les résultats ne seraient-ils pas totalement différents s'il avait été découpé autrement?\n",
    "\n",
    "Pour palier à cela on à la cross validation. Elle consiste à entrainer puis valider notre modèle sur plusieurs découpes possibles du train set."
   ]
  },
  {
   "cell_type": "markdown",
   "id": "be95354c-8899-458d-ab2c-a1734962280a",
   "metadata": {},
   "source": [
    "ATTENTION A NE PAS CONFONDRE ENTRAINEMENT VALIDATION ET EVALUATION !"
   ]
  },
  {
   "cell_type": "code",
   "execution_count": 10,
   "id": "bef9e7ef-93e3-4703-b61c-c99973c9d0cb",
   "metadata": {},
   "outputs": [],
   "source": [
    "from sklearn.model_selection import cross_val_score\n",
    "from sklearn.neighbors import KNeighborsClassifier\n",
    "import matplotlib.pyplot as plt"
   ]
  },
  {
   "cell_type": "code",
   "execution_count": 21,
   "id": "5d7db008-62ab-4143-b5c4-f24b84a839df",
   "metadata": {},
   "outputs": [
    {
     "data": {
      "image/png": "[encoded data removed]",
      "text/plain": [
       "<Figure size 432x288 with 1 Axes>"
      ]
     },
     "metadata": {
      "needs_background": "light"
     },
     "output_type": "display_data"
    }
   ],
   "source": [
    "val_score = [] \n",
    "for i in range(1,30):\n",
    "    score = cross_val_score(KNeighborsClassifier(n_neighbors=i), X_train, y_train, cv=5).mean()\n",
    "    val_score.append(score)\n",
    "\n",
    "\n",
    "plt.plot(val_score)\n",
    "plt.grid()"
   ]
  },
  {
   "cell_type": "markdown",
   "id": "732b5f83-8425-4f12-a7e9-df49eff3f1bf",
   "metadata": {},
   "source": [
    "C'est à priori 11 voisins qui semblent donner les meilleurs résultats au modèle."
   ]
  },
  {
   "cell_type": "markdown",
   "id": "05b5895f-310e-49bd-bba1-821ff8eacd56",
   "metadata": {},
   "source": [
    "L'argument 'cv' correspond au nombre de découpes que l'on veut sur le train set. \n",
    "Pour visualiser, prenons T -> Train set et V -> Validation set. \n",
    "\n",
    "Avec cv = 5 : \n",
    "\n",
    "V T T T T\n",
    "\n",
    "T V T T T\n",
    "\n",
    "T T V T T\n",
    "\n",
    "T T T V T\n",
    "\n",
    "T T T T V\n",
    "\n",
    "A chaque fois, on entraine le modèle sur les les T et on valide sur le V.\n",
    "\n",
    "A chaque fois, on obtient un score pour chaque 'split' donc à chaque tour de boucle on obtient 5 scores. \n",
    "C'est pour ça qu'on utilise .mean pour faire la moyenne de tout les scores de chaque split."
   ]
  },
  {
   "cell_type": "markdown",
   "id": "7cdfefcd-1df9-4e2d-b5e7-b7e3cc236830",
   "metadata": {},
   "source": [
    "--> On verra dans un autre fichier qu'il existe différentes stratégies de cross validation."
   ]
  },
  {
   "cell_type": "markdown",
   "id": "8deed48b-411a-4de4-a149-ad394017e057",
   "metadata": {},
   "source": [
    "## Validation curve"
   ]
  },
  {
   "cell_type": "markdown",
   "id": "8f8899d9-db1b-42e4-8e3c-9b320f4172f1",
   "metadata": {},
   "source": [
    "La validation curve fait la même chose que cross_val_score mais permet également de voir les résultats du train set."
   ]
  },
  {
   "cell_type": "code",
   "execution_count": 43,
   "id": "1f4cdc1b-b601-43e5-9ac1-25a3635df501",
   "metadata": {},
   "outputs": [],
   "source": [
    "from sklearn.model_selection import validation_curve\n",
    "import numpy as np"
   ]
  },
  {
   "cell_type": "code",
   "execution_count": 44,
   "id": "a45cfdc6-e45c-4e02-8fc5-7c8cde3f9589",
   "metadata": {},
   "outputs": [],
   "source": [
    "model = KNeighborsClassifier()\n",
    "k = np.arange(1,30)"
   ]
  },
  {
   "cell_type": "code",
   "execution_count": 45,
   "id": "f9430439-64c3-4568-bc49-6d112517ce60",
   "metadata": {},
   "outputs": [],
   "source": [
    "train_score, val_score = validation_curve(model, X_train, y_train, param_name='n_neighbors', param_range=k, cv=5)"
   ]
  },
  {
   "cell_type": "code",
   "execution_count": 52,
   "id": "0d50551d-5310-41a0-a4aa-8f01035ab632",
   "metadata": {},
   "outputs": [
    {
     "data": {
      "image/png": "[encoded data removed]",
      "text/plain": [
       "<Figure size 432x288 with 1 Axes>"
      ]
     },
     "metadata": {
      "needs_background": "light"
     },
     "output_type": "display_data"
    }
   ],
   "source": [
    "plt.plot(k, val_score.mean(axis=1))\n",
    "plt.plot(k, train_score.mean(axis=1))\n",
    "plt.grid()"
   ]
  },
  {
   "cell_type": "markdown",
   "id": "64d12186-2a95-4f20-ba8b-78051ab92d07",
   "metadata": {},
   "source": [
    "Du coup on peut afficher la courbe du train set en plus.\n",
    "\n",
    "Cette technique est très utile notamment pour détecter les cas d'overfitting (lorsque le modèle est trop perfectionner sur le train set et perds tout sens de généralisation).\n",
    "Avec un estimateur KNN, on overfit souvent avec n_neighbors=1."
   ]
  },
  {
   "cell_type": "markdown",
   "id": "e49b8a86-d39f-4407-9e25-cfcbcf628a94",
   "metadata": {},
   "source": [
    "# GridSearchCV"
   ]
  },
  {
   "cell_type": "markdown",
   "id": "f9dbf3e8-f0bc-413f-aafa-08c5dc76a552",
   "metadata": {},
   "source": [
    "Jusqu'à maintenant, on a travailler sur un seul hyperparamètre : 'n_neighbors'.\n",
    "GridSearchCV permet de trouver LES meilleurs hyperparamètres en créer une grille de modèles.\n",
    "\n",
    "Par exemple, un autre hyperparamètre de KNN est 'metric' et peut prendre les valeurs 'euclidean', 'manhattan' et 'minkowski'. (differentes façons de calculer la distance entre deux points)."
   ]
  },
  {
   "cell_type": "code",
   "execution_count": 53,
   "id": "4e60ed32-2535-4c1e-a735-4b27d7a5ce32",
   "metadata": {},
   "outputs": [],
   "source": [
    "from sklearn.model_selection import GridSearchCV"
   ]
  },
  {
   "cell_type": "code",
   "execution_count": 57,
   "id": "9141a272-277f-4d70-ad96-f52c1fb6080b",
   "metadata": {},
   "outputs": [],
   "source": [
    "# model.get_params() --> donne les différents hyperparamètres d'un model."
   ]
  },
  {
   "cell_type": "code",
   "execution_count": 62,
   "id": "77941ebf-9201-4e6e-9e8f-5de47fa129f9",
   "metadata": {},
   "outputs": [],
   "source": [
    "param_grid = {\n",
    "    'n_neighbors' : np.arange(1,20),\n",
    "    'metric' : ['euclidean', 'manhattan', 'minkowski']\n",
    "}"
   ]
  },
  {
   "cell_type": "markdown",
   "id": "d3d8252e-ef2a-42e8-9de7-c6842dae359c",
   "metadata": {},
   "source": [
    "Avec GridSearchCV il faut créer un dictionnaire avec les hyperparamètres à trouver en clés et toutes leurs valeurs possibles en valeurs."
   ]
  },
  {
   "cell_type": "code",
   "execution_count": 59,
   "id": "a1fb689a-8481-422d-80d0-e3d4cee4bd02",
   "metadata": {},
   "outputs": [],
   "source": [
    "model_bis = KNeighborsClassifier()"
   ]
  },
  {
   "cell_type": "code",
   "execution_count": 63,
   "id": "f35885ae-b0f2-4c8a-98bf-7a3deea766c9",
   "metadata": {},
   "outputs": [],
   "source": [
    "grid = GridSearchCV(model, param_grid=param_grid, cv=5) # Là on créer une grille de 60 modèles car toutes les combinaisons sont possibles entre 1 et 20 voisins pour les 3 metric possibles."
   ]
  },
  {
   "cell_type": "markdown",
   "id": "36649ba5-ea7f-4268-a258-0b1dbfdeb4d9",
   "metadata": {},
   "source": [
    "Notre objet grid contient donc de nombreux estimateurs, on la manipule comme un estimateur avec les méthodes 'fit', 'best_score_', 'best_params_' et 'best_estimator_'."
   ]
  },
  {
   "cell_type": "code",
   "execution_count": 64,
   "id": "822c694f-761a-4b3c-94a9-509df8a6d82e",
   "metadata": {},
   "outputs": [
    {
     "data": {
      "text/html": [
       "<style>#sk-container-id-2 {color: black;background-color: white;}#sk-container-id-2 pre{padding: 0;}#sk-container-id-2 div.sk-toggleable {background-color: white;}#sk-container-id-2 label.sk-toggleable__label {cursor: pointer;display: block;width: 100%;margin-bottom: 0;padding: 0.3em;box-sizing: border-box;text-align: center;}#sk-container-id-2 label.sk-toggleable__label-arrow:before {content: \"▸\";float: left;margin-right: 0.25em;color: #696969;}#sk-container-id-2 label.sk-toggleable__label-arrow:hover:before {color: black;}#sk-container-id-2 div.sk-estimator:hover label.sk-toggleable__label-arrow:before {color: black;}#sk-container-id-2 div.sk-toggleable__content {max-height: 0;max-width: 0;overflow: hidden;text-align: left;background-color: #f0f8ff;}#sk-container-id-2 div.sk-toggleable__content pre {margin: 0.2em;color: black;border-radius: 0.25em;background-color: #f0f8ff;}#sk-container-id-2 input.sk-toggleable__control:checked~div.sk-toggleable__content {max-height: 200px;max-width: 100%;overflow: auto;}#sk-container-id-2 input.sk-toggleable__control:checked~label.sk-toggleable__label-arrow:before {content: \"▾\";}#sk-container-id-2 div.sk-estimator input.sk-toggleable__control:checked~label.sk-toggleable__label {background-color: #d4ebff;}#sk-container-id-2 div.sk-label input.sk-toggleable__control:checked~label.sk-toggleable__label {background-color: #d4ebff;}#sk-container-id-2 input.sk-hidden--visually {border: 0;clip: rect(1px 1px 1px 1px);clip: rect(1px, 1px, 1px, 1px);height: 1px;margin: -1px;overflow: hidden;padding: 0;position: absolute;width: 1px;}#sk-container-id-2 div.sk-estimator {font-family: monospace;background-color: #f0f8ff;border: 1px dotted black;border-radius: 0.25em;box-sizing: border-box;margin-bottom: 0.5em;}#sk-container-id-2 div.sk-estimator:hover {background-color: #d4ebff;}#sk-container-id-2 div.sk-parallel-item::after {content: \"\";width: 100%;border-bottom: 1px solid gray;flex-grow: 1;}#sk-container-id-2 div.sk-label:hover label.sk-toggleable__label {background-color: #d4ebff;}#sk-container-id-2 div.sk-serial::before {content: \"\";position: absolute;border-left: 1px solid gray;box-sizing: border-box;top: 0;bottom: 0;left: 50%;z-index: 0;}#sk-container-id-2 div.sk-serial {display: flex;flex-direction: column;align-items: center;background-color: white;padding-right: 0.2em;padding-left: 0.2em;position: relative;}#sk-container-id-2 div.sk-item {position: relative;z-index: 1;}#sk-container-id-2 div.sk-parallel {display: flex;align-items: stretch;justify-content: center;background-color: white;position: relative;}#sk-container-id-2 div.sk-item::before, #sk-container-id-2 div.sk-parallel-item::before {content: \"\";position: absolute;border-left: 1px solid gray;box-sizing: border-box;top: 0;bottom: 0;left: 50%;z-index: -1;}#sk-container-id-2 div.sk-parallel-item {display: flex;flex-direction: column;z-index: 1;position: relative;background-color: white;}#sk-container-id-2 div.sk-parallel-item:first-child::after {align-self: flex-end;width: 50%;}#sk-container-id-2 div.sk-parallel-item:last-child::after {align-self: flex-start;width: 50%;}#sk-container-id-2 div.sk-parallel-item:only-child::after {width: 0;}#sk-container-id-2 div.sk-dashed-wrapped {border: 1px dashed gray;margin: 0 0.4em 0.5em 0.4em;box-sizing: border-box;padding-bottom: 0.4em;background-color: white;}#sk-container-id-2 div.sk-label label {font-family: monospace;font-weight: bold;display: inline-block;line-height: 1.2em;}#sk-container-id-2 div.sk-label-container {text-align: center;}#sk-container-id-2 div.sk-container {/* jupyter's `normalize.less` sets `[hidden] { display: none; }` but bootstrap.min.css set `[hidden] { display: none !important; }` so we also need the `!important` here to be able to override the default hidden behavior on the sphinx rendered scikit-learn.org. See: https://github.com/scikit-learn/scikit-learn/issues/21755 */display: inline-block !important;position: relative;}#sk-container-id-2 div.sk-text-repr-fallback {display: none;}</style><div id=\"sk-container-id-2\" class=\"sk-top-container\"><div class=\"sk-text-repr-fallback\"><pre>GridSearchCV(cv=5, estimator=KNeighborsClassifier(),\n",
       "             param_grid={&#x27;metric&#x27;: [&#x27;euclidean&#x27;, &#x27;manhattan&#x27;, &#x27;minkowski&#x27;],\n",
       "                         &#x27;n_neighbors&#x27;: array([ 1,  2,  3,  4,  5,  6,  7,  8,  9, 10, 11, 12, 13, 14, 15, 16, 17,\n",
       "       18, 19])})</pre><b>In a Jupyter environment, please rerun this cell to show the HTML representation or trust the notebook. <br />On GitHub, the HTML representation is unable to render, please try loading this page with nbviewer.org.</b></div><div class=\"sk-container\" hidden><div class=\"sk-item sk-dashed-wrapped\"><div class=\"sk-label-container\"><div class=\"sk-label sk-toggleable\"><input class=\"sk-toggleable__control sk-hidden--visually\" id=\"sk-estimator-id-2\" type=\"checkbox\" ><label for=\"sk-estimator-id-2\" class=\"sk-toggleable__label sk-toggleable__label-arrow\">GridSearchCV</label><div class=\"sk-toggleable__content\"><pre>GridSearchCV(cv=5, estimator=KNeighborsClassifier(),\n",
       "             param_grid={&#x27;metric&#x27;: [&#x27;euclidean&#x27;, &#x27;manhattan&#x27;, &#x27;minkowski&#x27;],\n",
       "                         &#x27;n_neighbors&#x27;: array([ 1,  2,  3,  4,  5,  6,  7,  8,  9, 10, 11, 12, 13, 14, 15, 16, 17,\n",
       "       18, 19])})</pre></div></div></div><div class=\"sk-parallel\"><div class=\"sk-parallel-item\"><div class=\"sk-item\"><div class=\"sk-label-container\"><div class=\"sk-label sk-toggleable\"><input class=\"sk-toggleable__control sk-hidden--visually\" id=\"sk-estimator-id-3\" type=\"checkbox\" ><label for=\"sk-estimator-id-3\" class=\"sk-toggleable__label sk-toggleable__label-arrow\">estimator: KNeighborsClassifier</label><div class=\"sk-toggleable__content\"><pre>KNeighborsClassifier()</pre></div></div></div><div class=\"sk-serial\"><div class=\"sk-item\"><div class=\"sk-estimator sk-toggleable\"><input class=\"sk-toggleable__control sk-hidden--visually\" id=\"sk-estimator-id-4\" type=\"checkbox\" ><label for=\"sk-estimator-id-4\" class=\"sk-toggleable__label sk-toggleable__label-arrow\">KNeighborsClassifier</label><div class=\"sk-toggleable__content\"><pre>KNeighborsClassifier()</pre></div></div></div></div></div></div></div></div></div></div>"
      ],
      "text/plain": [
       "GridSearchCV(cv=5, estimator=KNeighborsClassifier(),\n",
       "             param_grid={'metric': ['euclidean', 'manhattan', 'minkowski'],\n",
       "                         'n_neighbors': array([ 1,  2,  3,  4,  5,  6,  7,  8,  9, 10, 11, 12, 13, 14, 15, 16, 17,\n",
       "       18, 19])})"
      ]
     },
     "execution_count": 64,
     "metadata": {},
     "output_type": "execute_result"
    }
   ],
   "source": [
    "grid.fit(X_train, y_train)"
   ]
  },
  {
   "cell_type": "code",
   "execution_count": 65,
   "id": "c61c70b8-ab54-483a-acab-c523360cd2ee",
   "metadata": {},
   "outputs": [
    {
     "data": {
      "text/plain": [
       "0.9666666666666668"
      ]
     },
     "execution_count": 65,
     "metadata": {},
     "output_type": "execute_result"
    }
   ],
   "source": [
    "grid.best_score_"
   ]
  },
  {
   "cell_type": "code",
   "execution_count": 66,
   "id": "ae3144ab-e5c2-4563-ac1b-2585855a697b",
   "metadata": {},
   "outputs": [
    {
     "data": {
      "text/plain": [
       "{'metric': 'euclidean', 'n_neighbors': 12}"
      ]
     },
     "execution_count": 66,
     "metadata": {},
     "output_type": "execute_result"
    }
   ],
   "source": [
    "grid.best_params_"
   ]
  },
  {
   "cell_type": "markdown",
   "id": "da7a38f4-94d9-4d77-ad3a-a031493e6382",
   "metadata": {},
   "source": [
    "Ainsi, le modèle de KNN qui convient le mieux à ce dataset à pour hyperparamètres metric=eucliean et 12 voisins.\n",
    "\n",
    "On peut enregistrer le modèle comme suit :"
   ]
  },
  {
   "cell_type": "code",
   "execution_count": 67,
   "id": "4f62d9cc-54c3-47bf-ade2-35fd8bbd49fe",
   "metadata": {},
   "outputs": [],
   "source": [
    "best_model = grid.best_estimator_"
   ]
  },
  {
   "cell_type": "code",
   "execution_count": 71,
   "id": "812fa786-140a-4e52-bae5-38677ee17289",
   "metadata": {},
   "outputs": [
    {
     "data": {
      "text/plain": [
       "1.0"
      ]
     },
     "execution_count": 71,
     "metadata": {},
     "output_type": "execute_result"
    }
   ],
   "source": [
    "best_model.score(X_test, y_test)"
   ]
  },
  {
   "cell_type": "markdown",
   "id": "6d160edb-118e-4407-b6fb-5d8291128414",
   "metadata": {},
   "source": [
    "Aussi surprenant que cela puisse paraître, l'évaluation de notre modèle avec le test set donne un score de 100% !"
   ]
  },
  {
   "cell_type": "markdown",
   "id": "82745345-ba4d-453a-a0f7-5c3c287c6d45",
   "metadata": {},
   "source": [
    "# Learning curve"
   ]
  },
  {
   "cell_type": "markdown",
   "id": "4c06c432-e8bc-4de8-a17f-c1c1fbcdb58b",
   "metadata": {},
   "source": [
    "Cette courbe permet de voir l'évolution des performances du modèle en fonction de la quantité de données qu'on lui fournit.\n",
    "\n",
    "De façon générale, plus on a de données mieux c'est, mais il s'avère qu'à partir d'un certain seuil, le modèle n'apprends quasiment plus, ce qui rend l'ajout de données inutiles voire contre productive. En effet, le temps de calcul sera plus long + les données peuvent coûter chères dans une application réelle."
   ]
  },
  {
   "cell_type": "code",
   "execution_count": 72,
   "id": "b3a3b40f-95f0-42db-bdf7-fa5a39589468",
   "metadata": {},
   "outputs": [],
   "source": [
    "from sklearn.model_selection import learning_curve"
   ]
  },
  {
   "cell_type": "code",
   "execution_count": 73,
   "id": "13a698de-0b32-445f-a208-6ad7c005e3fa",
   "metadata": {},
   "outputs": [],
   "source": [
    "N, train_score, val_score = learning_curve(best_model, X_train, y_train, train_sizes=np.linspace(0.2,1.0,5), cv=5)"
   ]
  },
  {
   "cell_type": "code",
   "execution_count": 77,
   "id": "17548490-6ddf-41d6-bf27-558b5be446c5",
   "metadata": {},
   "outputs": [
    {
     "data": {
      "text/plain": [
       "<matplotlib.legend.Legend at 0x245eb370d60>"
      ]
     },
     "execution_count": 77,
     "metadata": {},
     "output_type": "execute_result"
    },
    {
     "data": {
      "image/png": "[encoded data removed]",
      "text/plain": [
       "<Figure size 720x576 with 1 Axes>"
      ]
     },
     "metadata": {
      "needs_background": "light"
     },
     "output_type": "display_data"
    }
   ],
   "source": [
    "plt.figure(figsize=(10,8))\n",
    "plt.plot(N, train_score.mean(axis=1), label='train')\n",
    "plt.plot(N, val_score.mean(axis=1), label='validation')\n",
    "plt.xlabel('train_sizes')\n",
    "plt.legend()"
   ]
  },
  {
   "cell_type": "markdown",
   "id": "5d3a0c28-0f1f-4fa3-94fc-5f414069de54",
   "metadata": {},
   "source": [
    "L'argument 'train_sizes' représente la quantité de données à utiliser pour l'entrainement en %. Cette valeur est stockées dans la variables N.\n",
    "\n",
    "Grâce à cette courbe on voit que le modèle n'apprends plus à partir de 80 données."
   ]
  },
  {
   "cell_type": "code",
   "execution_count": null,
   "id": "7868537f-878d-4fdc-b3a6-207454002d5c",
   "metadata": {},
   "outputs": [],
   "source": []
  }
 ],
 "metadata": {
  "kernelspec": {
   "display_name": "Python 3 (ipykernel)",
   "language": "python",
   "name": "python3"
  },
  "language_info": {
   "codemirror_mode": {
    "name": "ipython",
    "version": 3
   },
   "file_extension": ".py",
   "mimetype": "text/x-python",
   "name": "python",
   "nbconvert_exporter": "python",
   "pygments_lexer": "ipython3",
   "version": "3.9.7"
  }
 },
 "nbformat": 4,
 "nbformat_minor": 5
}
