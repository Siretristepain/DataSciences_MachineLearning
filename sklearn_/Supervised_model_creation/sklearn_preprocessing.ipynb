{
 "cells": [
  {
   "cell_type": "markdown",
   "id": "9e09e692-2cff-4ae6-93eb-9376323deded",
   "metadata": {},
   "source": [
    "Le preprocessing ou pré-traitement des données consiste à trier et 'nettoyer' nos données afin que notre modèle puisse apprendre de façon efficace. Parmis les opérations importantes de preprocessing on trouve :\n",
    "\n",
    "- l'encodage : convertir les données qualitative en données numériques\n",
    "- la normalisation : mettre sur une même échelle toutes les données quantitatives\n",
    "- l'imputation : remplacer certaines valeurs manquantes par des valeurs statistiques ou par des NaN\n",
    "- la sélection : on garde les variables les plus intéressantes ou celles qui contiennent le plus d'informations notamment grâce au test du chi-2\n",
    "- l'extraction : créer de nouvelles données à partir d'informations 'cachées' dans le dataset"
   ]
  },
  {
   "cell_type": "markdown",
   "id": "54b01406-759a-44e3-a8e9-5df151f137a6",
   "metadata": {},
   "source": [
    "Ici on vas se concentrer sur l'encodage et la normalisation. Ces deux opérations sont disponibles dans le module sklearn.preprocessing"
   ]
  },
  {
   "cell_type": "markdown",
   "id": "71737dd9-cb3f-4fcb-a39b-deeefd0fed1b",
   "metadata": {},
   "source": [
    "Ce qui nous intéresse dans le module sklearn.preprocessing ce sont des objets que l'ont appelle transformer.\n",
    "\n",
    "Les transformers permettent de transformer toutes les données de façon cohérentes; aussi bien celles qui ont servies à entraîner le modèle que celles qui serviront à faire des prédictions. Cela permet au modèle de recevoir des données cohérentes avec ce qu'il à appris."
   ]
  },
  {
   "cell_type": "markdown",
   "id": "b89e48c0-3565-4619-8f68-1de2457bad2b",
   "metadata": {},
   "source": [
    "Pour transformer les données, les transformers disposent de 2 fonctions : 'fit' et 'transform'. 'fit' retourne une fonction de transformation et 'transform' applique cette fonction. Ces deux fonctions sont si souvent utilisées ensembles qu'il existe même une fonction 'fit_transform' qui fait les deux à la fois."
   ]
  },
  {
   "cell_type": "markdown",
   "id": "afbad603-7aac-4087-9bc9-8a5579b7ce1d",
   "metadata": {},
   "source": [
    "# Les transformers d'encodage"
   ]
  },
  {
   "cell_type": "markdown",
   "id": "6fd777c5-7f0c-49ad-92ff-636d6f89e76f",
   "metadata": {},
   "source": [
    "## 1) Encodage Ordinal"
   ]
  },
  {
   "cell_type": "markdown",
   "id": "6cc240cf-9c02-4d5d-8f3b-51d750e549bb",
   "metadata": {},
   "source": [
    "L'encodage ordinal associe chaque catégorie ou chaque classe d'une variable à une valeur décimale unique"
   ]
  },
  {
   "cell_type": "markdown",
   "id": "b0928a23-8587-4fcc-9d66-6c8092e41646",
   "metadata": {},
   "source": [
    "## 1.1) LabelEncoder"
   ]
  },
  {
   "cell_type": "code",
   "execution_count": 2,
   "id": "3f3177bf-e330-402d-a738-a7d8203c52d6",
   "metadata": {},
   "outputs": [],
   "source": [
    "import numpy as np\n",
    "from sklearn.preprocessing import LabelEncoder"
   ]
  },
  {
   "cell_type": "code",
   "execution_count": 3,
   "id": "244b20fb-ffa8-4661-84ca-1127bfd744e2",
   "metadata": {},
   "outputs": [],
   "source": [
    "y = np.array(['chat','chien','chat','oiseau'])"
   ]
  },
  {
   "cell_type": "code",
   "execution_count": 4,
   "id": "9f31e7d0-85df-44a7-8461-d58e0c7599bb",
   "metadata": {},
   "outputs": [],
   "source": [
    "encoder = LabelEncoder()"
   ]
  },
  {
   "cell_type": "code",
   "execution_count": 7,
   "id": "c99e6658-b3f1-41d5-849c-bfc675e19dfe",
   "metadata": {},
   "outputs": [],
   "source": [
    "y_transform = encoder.fit_transform(y)"
   ]
  },
  {
   "cell_type": "code",
   "execution_count": 11,
   "id": "dff568e4-3374-4ef6-bbab-eb183014d01e",
   "metadata": {},
   "outputs": [
    {
     "data": {
      "text/plain": [
       "array([0, 1, 0, 2], dtype=int64)"
      ]
     },
     "execution_count": 11,
     "metadata": {},
     "output_type": "execute_result"
    }
   ],
   "source": [
    "y_transform"
   ]
  },
  {
   "cell_type": "markdown",
   "id": "2fdc37fc-2796-4219-9dbe-11fb573013f3",
   "metadata": {},
   "source": [
    "On peut ensuite appliqué 'inverse_transform' sur des données transformées pour revoir les vrais labels."
   ]
  },
  {
   "cell_type": "code",
   "execution_count": 12,
   "id": "5dc5b85e-4ac9-43ac-aa79-0d51591df2e4",
   "metadata": {},
   "outputs": [
    {
     "data": {
      "text/plain": [
       "array(['chat', 'chat', 'oiseau', 'oiseau'], dtype='<U6')"
      ]
     },
     "execution_count": 12,
     "metadata": {},
     "output_type": "execute_result"
    }
   ],
   "source": [
    "encoder.inverse_transform(np.array([0,0,2,2]))"
   ]
  },
  {
   "cell_type": "markdown",
   "id": "f0662ace-c183-41ef-a239-a94d2c669049",
   "metadata": {},
   "source": [
    "LabelEncoder est limité car il ne peut agir que sur une seule colonne !"
   ]
  },
  {
   "cell_type": "markdown",
   "id": "e4eda569-5778-4cf6-8fab-f6bcbcae56f0",
   "metadata": {},
   "source": [
    "## 1.2) OrdinalEncoder"
   ]
  },
  {
   "cell_type": "markdown",
   "id": "df573bf5-4506-4dc3-865a-7fe14b79a2af",
   "metadata": {},
   "source": [
    "OrdinalEncoder s'utilise et fait exactement la même chose que LabelEncoder mais peut s'appliquer à des tableaux entiers."
   ]
  },
  {
   "cell_type": "code",
   "execution_count": 29,
   "id": "749bd395-de2a-4e09-a317-5134d04bf5c4",
   "metadata": {},
   "outputs": [],
   "source": [
    "from sklearn.preprocessing import OrdinalEncoder\n",
    "encoder_ordinal = OrdinalEncoder()"
   ]
  },
  {
   "cell_type": "code",
   "execution_count": 44,
   "id": "5883d477-47b8-425d-a6ea-e34b6f3ddee8",
   "metadata": {},
   "outputs": [],
   "source": [
    "g = np.array([['chat','taupe','chat','oiseau','taureau'],['vache','chat','oiseau','chien','chien']])"
   ]
  },
  {
   "cell_type": "code",
   "execution_count": 45,
   "id": "65aa06de-510f-4347-a313-17ccf6ece672",
   "metadata": {},
   "outputs": [
    {
     "data": {
      "text/plain": [
       "array([[0., 1., 0., 1., 1.],\n",
       "       [1., 0., 1., 0., 0.]])"
      ]
     },
     "execution_count": 45,
     "metadata": {},
     "output_type": "execute_result"
    }
   ],
   "source": [
    "encoder_ordinal.fit_transform(g)"
   ]
  },
  {
   "cell_type": "markdown",
   "id": "b5edf712-9119-4763-b24d-5bd71e733be3",
   "metadata": {},
   "source": [
    "Là on pourrait se dire que c'est curieux car dans la premiere rangée on a que des 0 et des 1 or on a 4 animaux différents !\n",
    "\n",
    "Oui mais en fait OrdinalEncoder se base sur les colonnes et non les rangées ! Vu qu'on à que deux rangées, on auras donc que des 0 et des 1 puisqu'il peut y avoir au maximum que deux animaux différents par rangée!"
   ]
  },
  {
   "cell_type": "code",
   "execution_count": 46,
   "id": "cd58589d-4579-4880-97c8-5869fee069a9",
   "metadata": {},
   "outputs": [],
   "source": [
    "gg = np.array([['chien', 'poils', 'animal'],\n",
    "               ['chat', 'poils', 'animal'],\n",
    "               ['oiseau', 'plumes', 'animal'],\n",
    "               ['moi', 'poils', 'humain']])"
   ]
  },
  {
   "cell_type": "code",
   "execution_count": 47,
   "id": "c845d70c-f30e-4399-83bc-57b9b68b3dac",
   "metadata": {},
   "outputs": [
    {
     "data": {
      "text/plain": [
       "array([[1., 1., 0.],\n",
       "       [0., 1., 0.],\n",
       "       [3., 0., 0.],\n",
       "       [2., 1., 1.]])"
      ]
     },
     "execution_count": 47,
     "metadata": {},
     "output_type": "execute_result"
    }
   ],
   "source": [
    "encoder_ordinal.fit_transform(gg)"
   ]
  },
  {
   "cell_type": "markdown",
   "id": "696031d5-3339-4b5b-a7e5-63eac1cee50f",
   "metadata": {},
   "source": [
    "# 2) Encodage One Hot"
   ]
  },
  {
   "cell_type": "markdown",
   "id": "1add5cae-0dd9-4bf0-ad90-2f1573c5ce5a",
   "metadata": {},
   "source": [
    "Avec cet encodage, chaque classe est représentée de façon binaire dans une colonne qui lui est propre. Cela évite les problèmes de hiérarchie créer par l'encodage ordinal. Par exemple, avec OrdinalEncoder ci dessus on à chat < chien < moi < oiseau , ce qui est idiot !?"
   ]
  },
  {
   "cell_type": "markdown",
   "id": "3c1d3bf7-a68a-4270-9cd9-0b59e0676685",
   "metadata": {},
   "source": [
    "## 2.1) LabelBinarizer"
   ]
  },
  {
   "cell_type": "code",
   "execution_count": 48,
   "id": "ebd5ef8d-3883-4ac9-b722-670170f50956",
   "metadata": {},
   "outputs": [],
   "source": [
    "from sklearn.preprocessing import LabelBinarizer"
   ]
  },
  {
   "cell_type": "code",
   "execution_count": 49,
   "id": "8eeb4484-e615-432b-b90a-1794a1892c32",
   "metadata": {},
   "outputs": [],
   "source": [
    "encoder_labelbinarizer = LabelBinarizer()"
   ]
  },
  {
   "cell_type": "code",
   "execution_count": 53,
   "id": "f93ddf46-9dfe-438c-bf81-cb46e1de074f",
   "metadata": {},
   "outputs": [],
   "source": [
    "y = np.array(['chat','chien','chat','oiseau'])"
   ]
  },
  {
   "cell_type": "code",
   "execution_count": 54,
   "id": "359981fa-6632-4b7b-ad5d-24903aeec683",
   "metadata": {},
   "outputs": [
    {
     "data": {
      "text/plain": [
       "array([[1, 0, 0],\n",
       "       [0, 1, 0],\n",
       "       [1, 0, 0],\n",
       "       [0, 0, 1]])"
      ]
     },
     "execution_count": 54,
     "metadata": {},
     "output_type": "execute_result"
    }
   ],
   "source": [
    "encoder_labelbinarizer.fit_transform(y)"
   ]
  },
  {
   "cell_type": "markdown",
   "id": "0fa26e69-8531-4a39-97c5-2b35ed3485c2",
   "metadata": {},
   "source": [
    "La première colonne correspond à chat, la seconde à chien et la troisième à oiseau."
   ]
  },
  {
   "cell_type": "markdown",
   "id": "33880676-aac8-4c7f-982b-18ae36927066",
   "metadata": {},
   "source": [
    "## 2.2) MultiLabelBinarizer"
   ]
  },
  {
   "cell_type": "code",
   "execution_count": 55,
   "id": "3b5588bb-135e-49b0-931b-b3f379c67375",
   "metadata": {},
   "outputs": [],
   "source": [
    "from sklearn.preprocessing import MultiLabelBinarizer"
   ]
  },
  {
   "cell_type": "code",
   "execution_count": 56,
   "id": "0f12f709-a0e9-4209-a9d6-9f85d56697ad",
   "metadata": {},
   "outputs": [],
   "source": [
    "encoder_multi = MultiLabelBinarizer()"
   ]
  },
  {
   "cell_type": "code",
   "execution_count": 58,
   "id": "7aa28a12-9b1e-484b-830e-921be3910bc3",
   "metadata": {},
   "outputs": [],
   "source": [
    "gg = np.array([['chien', 'poils', 'animal'],\n",
    "               ['chat', 'poils', 'animal'],\n",
    "               ['oiseau', 'plumes', 'animal'],\n",
    "               ['moi', 'poils', 'humain']])"
   ]
  },
  {
   "cell_type": "code",
   "execution_count": 59,
   "id": "20b4bda4-3695-4acd-80b7-318e07eebc3c",
   "metadata": {},
   "outputs": [
    {
     "data": {
      "text/plain": [
       "array([[1, 0, 1, 0, 0, 0, 0, 1],\n",
       "       [1, 1, 0, 0, 0, 0, 0, 1],\n",
       "       [1, 0, 0, 0, 0, 1, 1, 0],\n",
       "       [0, 0, 0, 1, 1, 0, 0, 1]])"
      ]
     },
     "execution_count": 59,
     "metadata": {},
     "output_type": "execute_result"
    }
   ],
   "source": [
    "encoder_multi.fit_transform(gg)"
   ]
  },
  {
   "cell_type": "code",
   "execution_count": 60,
   "id": "c0ef023c-e5a1-4c69-8e4f-1be4f8a07686",
   "metadata": {},
   "outputs": [
    {
     "data": {
      "text/plain": [
       "array(['animal', 'chat', 'chien', 'humain', 'moi', 'oiseau', 'plumes',\n",
       "       'poils'], dtype=object)"
      ]
     },
     "execution_count": 60,
     "metadata": {},
     "output_type": "execute_result"
    }
   ],
   "source": [
    "encoder_multi.classes_"
   ]
  },
  {
   "cell_type": "markdown",
   "id": "c215e770-c57f-489f-884b-82d80dfca776",
   "metadata": {},
   "source": [
    "# 3) Normalisation"
   ]
  },
  {
   "cell_type": "markdown",
   "id": "3fca6e40-c9cd-4e6c-8409-0e4c5a9b1db7",
   "metadata": {},
   "source": [
    "## 3.1) MinMaxScaler"
   ]
  },
  {
   "cell_type": "markdown",
   "id": "c4cbaf98-a708-40fb-b5fe-ef8a6bec2268",
   "metadata": {},
   "source": [
    "Cette technique de normalisation permet de transformer chaque variable de telle sorte qu'elle soit comprise entre 0 et 1."
   ]
  },
  {
   "cell_type": "code",
   "execution_count": 61,
   "id": "b1dbc435-1b9a-4123-8b03-cd5f0588cc66",
   "metadata": {},
   "outputs": [],
   "source": [
    "x = np.array([[70],\n",
    "              [80],\n",
    "              [120]])"
   ]
  },
  {
   "cell_type": "code",
   "execution_count": 62,
   "id": "1978f526-823e-4955-af03-d1e0d160b7cd",
   "metadata": {},
   "outputs": [],
   "source": [
    "from sklearn.preprocessing import MinMaxScaler"
   ]
  },
  {
   "cell_type": "code",
   "execution_count": 63,
   "id": "2a0dd6a5-9901-4951-898d-2bcf9c16a127",
   "metadata": {},
   "outputs": [],
   "source": [
    "scaler = MinMaxScaler()"
   ]
  },
  {
   "cell_type": "code",
   "execution_count": 64,
   "id": "82425e11-bad6-433c-830c-16da6021e63d",
   "metadata": {},
   "outputs": [
    {
     "data": {
      "text/plain": [
       "array([[0. ],\n",
       "       [0.2],\n",
       "       [1. ]])"
      ]
     },
     "execution_count": 64,
     "metadata": {},
     "output_type": "execute_result"
    }
   ],
   "source": [
    "scaler.fit_transform(x)"
   ]
  },
  {
   "cell_type": "markdown",
   "id": "13105565-ae1a-42c0-a416-10e6857e78db",
   "metadata": {},
   "source": [
    "## 3.2) StandardScaler"
   ]
  },
  {
   "cell_type": "markdown",
   "id": "a99fb8a6-9999-44fc-81f7-60b7e4da408e",
   "metadata": {},
   "source": [
    "Transforme chaque variable X de telle sorte que sa moyenne = 0 et son écart type = 1."
   ]
  },
  {
   "cell_type": "code",
   "execution_count": 65,
   "id": "92ba203a-f610-43ac-9ca4-d28b96c703f9",
   "metadata": {},
   "outputs": [],
   "source": [
    "from sklearn.preprocessing import StandardScaler"
   ]
  },
  {
   "cell_type": "code",
   "execution_count": 66,
   "id": "589dd579-e7ad-4fe6-b030-ff0d355fee2b",
   "metadata": {},
   "outputs": [],
   "source": [
    "scaler_standard = StandardScaler()"
   ]
  },
  {
   "cell_type": "code",
   "execution_count": 67,
   "id": "7de32ce6-12c9-4c29-9dc8-e0384ec39583",
   "metadata": {},
   "outputs": [
    {
     "data": {
      "text/plain": [
       "array([[-0.9258201 ],\n",
       "       [-0.46291005],\n",
       "       [ 1.38873015]])"
      ]
     },
     "execution_count": 67,
     "metadata": {},
     "output_type": "execute_result"
    }
   ],
   "source": [
    "scaler_standard.fit_transform(x)"
   ]
  },
  {
   "cell_type": "markdown",
   "id": "68dfd669-e9dc-4d35-adf9-9e274c45c449",
   "metadata": {},
   "source": [
    "Le problème des normalisation MinMaxScaler et StandardScaler c'est qu'elles sont sensibles aux outliers."
   ]
  },
  {
   "cell_type": "markdown",
   "id": "c23b9542-bba8-4a1a-9ad6-25bbcb695d6d",
   "metadata": {},
   "source": [
    "## 3.3) RobustScaler"
   ]
  },
  {
   "cell_type": "markdown",
   "id": "e61b2686-6275-4284-8dd5-96fa5578aaf6",
   "metadata": {},
   "source": [
    "Transforme nos variables X sans être sensible aux outliers grâce à la médiane et la distance interquartile."
   ]
  },
  {
   "cell_type": "code",
   "execution_count": 68,
   "id": "c5dc481f-e6f2-4114-ba89-71bc349ce756",
   "metadata": {},
   "outputs": [],
   "source": [
    "from sklearn.preprocessing import RobustScaler"
   ]
  },
  {
   "cell_type": "code",
   "execution_count": 69,
   "id": "9135b9aa-0e8e-4f6b-9c7a-a879e59b1af3",
   "metadata": {},
   "outputs": [],
   "source": [
    "scaler_robust = RobustScaler()"
   ]
  },
  {
   "cell_type": "code",
   "execution_count": 70,
   "id": "34ed877d-4d79-4071-9515-16a2584aaa4e",
   "metadata": {},
   "outputs": [
    {
     "data": {
      "text/plain": [
       "array([[-0.4],\n",
       "       [ 0. ],\n",
       "       [ 1.6]])"
      ]
     },
     "execution_count": 70,
     "metadata": {},
     "output_type": "execute_result"
    }
   ],
   "source": [
    "scaler_robust.fit_transform(x)"
   ]
  },
  {
   "cell_type": "markdown",
   "id": "fd8748a0-f031-4971-aed9-1440cb224d72",
   "metadata": {},
   "source": [
    "#  4) PolynomialFeatures"
   ]
  },
  {
   "cell_type": "markdown",
   "id": "930812d4-be65-45ef-8325-efbe0f9cd289",
   "metadata": {},
   "source": [
    "Ce transformer permet de créer de nouvelles variables à partir de variables existantes."
   ]
  },
  {
   "cell_type": "code",
   "execution_count": 71,
   "id": "81041341-a4cd-4353-83a6-b94aa9f15b47",
   "metadata": {},
   "outputs": [],
   "source": [
    "X = np.array([[1], [2], [0.5]])"
   ]
  },
  {
   "cell_type": "code",
   "execution_count": 72,
   "id": "07c8cb87-2f7b-4454-babc-3cbf6e002c32",
   "metadata": {},
   "outputs": [],
   "source": [
    "from sklearn.preprocessing import PolynomialFeatures"
   ]
  },
  {
   "cell_type": "code",
   "execution_count": 77,
   "id": "5739ad4d-4594-4325-a3ab-db11b51e0303",
   "metadata": {},
   "outputs": [],
   "source": [
    "transformer = PolynomialFeatures(3)"
   ]
  },
  {
   "cell_type": "code",
   "execution_count": 78,
   "id": "9fe97d12-bcf5-427c-964c-3e8ad3bc8444",
   "metadata": {},
   "outputs": [
    {
     "data": {
      "text/plain": [
       "array([[1.   , 1.   , 1.   , 1.   ],\n",
       "       [1.   , 2.   , 4.   , 8.   ],\n",
       "       [1.   , 0.5  , 0.25 , 0.125]])"
      ]
     },
     "execution_count": 78,
     "metadata": {},
     "output_type": "execute_result"
    }
   ],
   "source": [
    "transformer.fit_transform(X)"
   ]
  },
  {
   "cell_type": "markdown",
   "id": "5c1497b5-b683-4d93-bc85-83ad65e1599a",
   "metadata": {},
   "source": [
    "Le transformer à créer une colonne de biais (la première colonne remplie de 1) et ensuite des colonnes à la puissance 1, au carré et au cube."
   ]
  },
  {
   "cell_type": "markdown",
   "id": "bb740704-4248-4b0e-b621-c3b53cf91e30",
   "metadata": {},
   "source": [
    "# 5) Discrétisation"
   ]
  },
  {
   "cell_type": "markdown",
   "id": "f2ea4c3b-ff5e-43be-9ba5-000b74c8aa54",
   "metadata": {},
   "source": [
    "Cette opération de transformation permet de créer des catégories. Par exemple des tranches d'âges."
   ]
  },
  {
   "cell_type": "markdown",
   "id": "5adad75b-9d8f-439e-92a1-e9866b6c68f6",
   "metadata": {},
   "source": [
    "## 5.1) Binarizer"
   ]
  },
  {
   "cell_type": "code",
   "execution_count": 79,
   "id": "8c72f77f-0846-4cbb-9f81-1c8257d2baee",
   "metadata": {},
   "outputs": [],
   "source": [
    "from sklearn.preprocessing import Binarizer"
   ]
  },
  {
   "cell_type": "code",
   "execution_count": 81,
   "id": "3163d4df-fd4e-4111-a18d-ed3509af11df",
   "metadata": {},
   "outputs": [
    {
     "name": "stdout",
     "output_type": "stream",
     "text": [
      "[[0.        ]\n",
      " [0.55555556]\n",
      " [1.11111111]\n",
      " [1.66666667]\n",
      " [2.22222222]\n",
      " [2.77777778]\n",
      " [3.33333333]\n",
      " [3.88888889]\n",
      " [4.44444444]\n",
      " [5.        ]]\n"
     ]
    }
   ],
   "source": [
    "X = np.linspace(0,5,10).reshape((10,1))\n",
    "print(X)"
   ]
  },
  {
   "cell_type": "code",
   "execution_count": 83,
   "id": "85a6efd1-35bb-4958-95b8-63d8c9122187",
   "metadata": {},
   "outputs": [
    {
     "data": {
      "text/plain": [
       "array([[0.],\n",
       "       [0.],\n",
       "       [0.],\n",
       "       [0.],\n",
       "       [0.],\n",
       "       [0.],\n",
       "       [1.],\n",
       "       [1.],\n",
       "       [1.],\n",
       "       [1.]])"
      ]
     },
     "execution_count": 83,
     "metadata": {},
     "output_type": "execute_result"
    }
   ],
   "source": [
    "Binarizer(threshold=3).fit_transform(X)"
   ]
  },
  {
   "cell_type": "markdown",
   "id": "bd03a5ed-d938-4d89-b985-ef5f7d5b1fd1",
   "metadata": {},
   "source": [
    "Toutes les valeurs dans X inférieures à 3 deviennent des 0 et celles supérieures deviennent des 1."
   ]
  },
  {
   "cell_type": "markdown",
   "id": "95072f43-12d7-4047-a04c-9b314ae7067f",
   "metadata": {},
   "source": [
    "## 5.2) KBinsDiscretizer"
   ]
  },
  {
   "cell_type": "code",
   "execution_count": 84,
   "id": "46e22ef9-e016-451f-8ce3-f2bd59de770a",
   "metadata": {},
   "outputs": [],
   "source": [
    "from sklearn.preprocessing import KBinsDiscretizer"
   ]
  },
  {
   "cell_type": "markdown",
   "id": "1bc7229a-8d71-46a9-8fbb-01c0e3e5e743",
   "metadata": {},
   "source": [
    "Fait la même chose de Binarizer mais permet de faire plusieurs classes."
   ]
  },
  {
   "cell_type": "code",
   "execution_count": 86,
   "id": "74970273-5b9c-41e4-a372-f34a19a1070c",
   "metadata": {},
   "outputs": [
    {
     "data": {
      "text/plain": [
       "array([[1., 0., 0., 0., 0., 0.],\n",
       "       [1., 0., 0., 0., 0., 0.],\n",
       "       [0., 1., 0., 0., 0., 0.],\n",
       "       [0., 1., 0., 0., 0., 0.],\n",
       "       [0., 0., 1., 0., 0., 0.],\n",
       "       [0., 0., 0., 1., 0., 0.],\n",
       "       [0., 0., 0., 1., 0., 0.],\n",
       "       [0., 0., 0., 0., 1., 0.],\n",
       "       [0., 0., 0., 0., 0., 1.],\n",
       "       [0., 0., 0., 0., 0., 1.]])"
      ]
     },
     "execution_count": 86,
     "metadata": {},
     "output_type": "execute_result"
    }
   ],
   "source": [
    "KBinsDiscretizer(n_bins=6).fit_transform(X).toarray()"
   ]
  }
 ],
 "metadata": {
  "kernelspec": {
   "display_name": "Python 3 (ipykernel)",
   "language": "python",
   "name": "python3"
  },
  "language_info": {
   "codemirror_mode": {
    "name": "ipython",
    "version": 3
   },
   "file_extension": ".py",
   "mimetype": "text/x-python",
   "name": "python",
   "nbconvert_exporter": "python",
   "pygments_lexer": "ipython3",
   "version": "3.9.7"
  }
 },
 "nbformat": 4,
 "nbformat_minor": 5
}
