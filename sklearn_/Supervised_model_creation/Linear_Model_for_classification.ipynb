{
 "cells": [
  {
   "cell_type": "markdown",
   "id": "2d773375-b353-483b-a944-ee0b3a023ca5",
   "metadata": {},
   "source": [
    "# Linear Model for Classification"
   ]
  },
  {
   "cell_type": "markdown",
   "id": "be5fd7db-b74e-408d-a92d-7963b6ce61cc",
   "metadata": {},
   "source": [
    "Dans cet exercice nous allons nous pencher sur les algorithmes linéaires pour faire des modèles de machine learning de classification.\n",
    "Nous allons utiliser deux algorithmes : LogisticRegression et LinearSVC"
   ]
  },
  {
   "cell_type": "code",
   "execution_count": 18,
   "id": "9225bd8e-1906-4021-95f7-d9fce32e9a61",
   "metadata": {},
   "outputs": [],
   "source": [
    "import matplotlib.pyplot as plt\n",
    "import numpy as np \n",
    "import pandas as pd\n",
    "from sklearn.model_selection import train_test_split"
   ]
  },
  {
   "cell_type": "code",
   "execution_count": 24,
   "id": "e9a7e6b0-ed07-45e9-af8b-623adb098611",
   "metadata": {},
   "outputs": [],
   "source": [
    "from mglearn_true.datasets import make_forge"
   ]
  },
  {
   "cell_type": "code",
   "execution_count": 25,
   "id": "6167d556-7555-4c56-876e-e3e5646813bb",
   "metadata": {},
   "outputs": [],
   "source": [
    "X, y = make_forge()"
   ]
  },
  {
   "cell_type": "code",
   "execution_count": 26,
   "id": "d349cb36-4118-423c-b8c3-78772df4ca56",
   "metadata": {},
   "outputs": [
    {
     "name": "stdout",
     "output_type": "stream",
     "text": [
      "X.shape = (26, 2)\n",
      "y.shape = (26,).\n"
     ]
    }
   ],
   "source": [
    "print(f\"X.shape = {X.shape}\\ny.shape = {y.shape}.\")"
   ]
  },
  {
   "cell_type": "markdown",
   "id": "fd56e782-178f-4129-91c3-4b3d77a55908",
   "metadata": {},
   "source": [
    "# Visualisation du dataset"
   ]
  },
  {
   "cell_type": "code",
   "execution_count": null,
   "id": "5a82a8c5-f8b5-4f65-ae03-c865787dde27",
   "metadata": {},
   "outputs": [],
   "source": [
    "plt.figure(figsize=(7,5))\n",
    "plt.scatter(X[:,0][y==0], X[:,1][y==0], label='class 0')\n",
    "plt.scatter(X[:,0][y==1], X[:,1][y==1], label='class 1')\n",
    "plt.title('feature 0 en fonction de "
   ]
  }
 ],
 "metadata": {
  "kernelspec": {
   "display_name": "Python 3 (ipykernel)",
   "language": "python",
   "name": "python3"
  },
  "language_info": {
   "codemirror_mode": {
    "name": "ipython",
    "version": 3
   },
   "file_extension": ".py",
   "mimetype": "text/x-python",
   "name": "python",
   "nbconvert_exporter": "python",
   "pygments_lexer": "ipython3",
   "version": "3.9.7"
  }
 },
 "nbformat": 4,
 "nbformat_minor": 5
}
