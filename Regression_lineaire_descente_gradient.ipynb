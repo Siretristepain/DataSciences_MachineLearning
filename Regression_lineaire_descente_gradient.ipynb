{
 "cells": [
  {
   "cell_type": "markdown",
   "id": "3220ff13-89e2-44e4-b2af-710d471b92de",
   "metadata": {},
   "source": [
    "# Modèle de régression linéaire selon la technique de la descente de gradient"
   ]
  },
  {
   "cell_type": "code",
   "execution_count": 1,
   "id": "ff84065f-b81c-4aff-af17-d2fab8eb095d",
   "metadata": {},
   "outputs": [],
   "source": [
    "import matplotlib.pyplot as plt\n",
    "import numpy as np "
   ]
  },
  {
   "cell_type": "markdown",
   "id": "a4d1789d-f79d-4812-83a0-0d5295c72910",
   "metadata": {},
   "source": [
    "## Je commence par créer un dataset"
   ]
  },
  {
   "cell_type": "code",
   "execution_count": 3,
   "id": "b2e2fb83-3880-4419-9393-2e5052c3bc33",
   "metadata": {},
   "outputs": [],
   "source": [
    "from sklearn.datasets import make_regression"
   ]
  },
  {
   "cell_type": "code",
   "execution_count": 7,
   "id": "cbfdcbe6-6b87-4c08-9337-8c78724966ca",
   "metadata": {},
   "outputs": [],
   "source": [
    "x, y = make_regression(n_samples=100, n_features=1, noise=10) # On reste sur un dataset simple avec seulement 1 feature. On rajoute un peu de bruit pour que cela semble un peu plus réel."
   ]
  },
  {
   "cell_type": "code",
   "execution_count": 29,
   "id": "524e0bed-9646-4b30-95b6-21f68feb73b4",
   "metadata": {},
   "outputs": [
    {
     "name": "stdout",
     "output_type": "stream",
     "text": [
      "x.shape : (100, 1)\n",
      "y.shape : (100, 1)\n",
      "y.shape après modification : (100, 1)\n"
     ]
    }
   ],
   "source": [
    "print(f\"x.shape : {x.shape}\")\n",
    "print(f\"y.shape : {y.shape}\")\n",
    "\n",
    "# On remarque que les dimensions de notre matrice y ne sont pas bonnes. On corrige cela comme ça : \n",
    "\n",
    "y = y.reshape(y.shape[0], 1)\n",
    "print(f\"y.shape après modification : {x.shape}\")"
   ]
  },
  {
   "cell_type": "code",
   "execution_count": 12,
   "id": "a9c277bd-fcd3-47f5-b94a-aafb5b8e12ed",
   "metadata": {},
   "outputs": [
    {
     "data": {
      "text/plain": [
       "Text(0, 0.5, 'target y')"
      ]
     },
     "execution_count": 12,
     "metadata": {},
     "output_type": "execute_result"
    },
    {
     "data": {
      "image/png": "[encoded data removed]",
      "text/plain": [
       "<Figure size 576x360 with 1 Axes>"
      ]
     },
     "metadata": {
      "needs_background": "light"
     },
     "output_type": "display_data"
    }
   ],
   "source": [
    "plt.figure(figsize=(8,5))\n",
    "plt.scatter(x, y, s=10)\n",
    "plt.title('Notre dataset')\n",
    "plt.xlabel('feature x')\n",
    "plt.ylabel('target y')"
   ]
  },
  {
   "cell_type": "markdown",
   "id": "606950e8-ab5a-418c-ada2-bf1ebaa0c8a0",
   "metadata": {},
   "source": [
    "# Le modèle"
   ]
  },
  {
   "cell_type": "markdown",
   "id": "20c9dee4-9f7b-44e2-b83a-922003b1887a",
   "metadata": {},
   "source": [
    "#### On souhaite créer un modèle linéaire donc de la forme y = a*x + b. On passe cette formule sous forme matricielle pour faciliter tout les calculs: F = X . theta (produit matriciel de X (matrice x à laquelle on ajoute une colonne de biais) et de theta (matrice qui contient les paramètres de notre modèle qu'il vas falloir ajuster))."
   ]
  },
  {
   "cell_type": "code",
   "execution_count": 13,
   "id": "1c038131-bfb1-4697-a95d-66f5bbb23bb9",
   "metadata": {},
   "outputs": [],
   "source": [
    "def model(X, theta):\n",
    "    return X.dot(theta)"
   ]
  },
  {
   "cell_type": "code",
   "execution_count": 31,
   "id": "732081af-146b-4974-a0b8-06083bc38d32",
   "metadata": {},
   "outputs": [
    {
     "name": "stdout",
     "output_type": "stream",
     "text": [
      "X.shape : (100, 2), on à bien la colonne de biais qui s'est ajoutée.\n"
     ]
    }
   ],
   "source": [
    "X = np.concatenate((x, np.ones((x.shape[0], 1))), axis=1)\n",
    "print(f\"X.shape : {X.shape}, on à bien la colonne de biais qui s'est ajoutée.\")"
   ]
  },
  {
   "cell_type": "markdown",
   "id": "18c73623-d07a-41df-896f-c8dd84e1ca9f",
   "metadata": {},
   "source": [
    "#### Pour 'initialiser' notre modèle, on créer un theta avec des valeurs aléatoires."
   ]
  },
  {
   "cell_type": "code",
   "execution_count": 35,
   "id": "fb6d0c37-2a67-479e-b9fe-71b493e20c78",
   "metadata": {},
   "outputs": [
    {
     "name": "stdout",
     "output_type": "stream",
     "text": [
      "theta.shape : (2, 1), on à bien une matrice à 2 valeurs, ce qui coïncide avec notre modèle à deux paramètres a et b.\n"
     ]
    }
   ],
   "source": [
    "theta = np.random.randn(2,1)\n",
    "print(f\"theta.shape : {theta.shape}, on à bien une matrice à 2 valeurs, ce qui coïncide avec notre modèle à deux paramètres a et b.\")"
   ]
  },
  {
   "cell_type": "code",
   "execution_count": 41,
   "id": "5ab2fe0e-06c6-4306-8077-f10d60037ac6",
   "metadata": {},
   "outputs": [],
   "source": [
    "prediction = model(X, theta) # On prédit une valeur de y (une target) pour chacun de nos x selon notre modèle."
   ]
  },
  {
   "cell_type": "code",
   "execution_count": 45,
   "id": "6ffdc25f-5fb4-4667-b644-054739199042",
   "metadata": {},
   "outputs": [
    {
     "data": {
      "text/plain": [
       "Text(0, 0.5, 'target y')"
      ]
     },
     "execution_count": 45,
     "metadata": {},
     "output_type": "execute_result"
    },
    {
     "data": {
      "image/png": "[encoded data removed]",
      "text/plain": [
       "<Figure size 576x360 with 1 Axes>"
      ]
     },
     "metadata": {
      "needs_background": "light"
     },
     "output_type": "display_data"
    }
   ],
   "source": [
    "plt.figure(figsize=(8,5))\n",
    "plt.scatter(x, y, s=10)\n",
    "plt.scatter(x, prediction, c='r', s=20)\n",
    "plt.title('Nos prédiction par rapport à notre dataset')\n",
    "plt.xlabel('feature x')\n",
    "plt.ylabel('target y')"
   ]
  },
  {
   "cell_type": "markdown",
   "id": "60c61f16-1ba5-4df9-abc7-e704c6c8c8e5",
   "metadata": {},
   "source": [
    "#### On constate que notre modèle semble très peu performant car il n'entre pas du tout dans le nuage de point de notre dataset."
   ]
  },
  {
   "cell_type": "markdown",
   "id": "23a21cf8-afc1-47e5-a28c-e3b17cf56bdd",
   "metadata": {},
   "source": [
    "# La fonction coût (mean squared error)"
   ]
  },
  {
   "cell_type": "markdown",
   "id": "88f9ee51-3f5b-488b-ad13-2aef33781f06",
   "metadata": {},
   "source": [
    "#### Notre fonction coût est de la forme J(theta) = 1/2m * somme( X . theta - y ) **2"
   ]
  },
  {
   "cell_type": "markdown",
   "id": "4b4c27a2-7fa7-4685-b860-c9a0860aeb39",
   "metadata": {},
   "source": [
    "#### Cette fonction représente en fait la différence entre les prédictions de notre modèle et les valeurs vraies. Si on diminu cette fonction coût, on améliore notre modèle."
   ]
  },
  {
   "cell_type": "code",
   "execution_count": 46,
   "id": "7d9aeb60-3ab0-4da1-9758-5fa2329d89bd",
   "metadata": {},
   "outputs": [],
   "source": [
    "def mean_squared_error(X, theta, y):\n",
    "    m = len(X)\n",
    "    return (1/(2*m)) * ((X.dot(theta) - y)**2).sum()"
   ]
  },
  {
   "cell_type": "code",
   "execution_count": 47,
   "id": "cfa12751-2210-4661-9a3d-d1921afe25d4",
   "metadata": {},
   "outputs": [
    {
     "data": {
      "text/plain": [
       "2767.471721053506"
      ]
     },
     "execution_count": 47,
     "metadata": {},
     "output_type": "execute_result"
    }
   ],
   "source": [
    "score = mean_squared_error(X, theta, y)\n",
    "print(f\"Le score de notre modèle est de : {score}, on est très "
   ]
  },
  {
   "cell_type": "code",
   "execution_count": null,
   "id": "9e086ce5-4375-4865-a7f2-65d49532195c",
   "metadata": {},
   "outputs": [],
   "source": []
  }
 ],
 "metadata": {
  "kernelspec": {
   "display_name": "Python 3 (ipykernel)",
   "language": "python",
   "name": "python3"
  },
  "language_info": {
   "codemirror_mode": {
    "name": "ipython",
    "version": 3
   },
   "file_extension": ".py",
   "mimetype": "text/x-python",
   "name": "python",
   "nbconvert_exporter": "python",
   "pygments_lexer": "ipython3",
   "version": "3.9.7"
  }
 },
 "nbformat": 4,
 "nbformat_minor": 5
}
